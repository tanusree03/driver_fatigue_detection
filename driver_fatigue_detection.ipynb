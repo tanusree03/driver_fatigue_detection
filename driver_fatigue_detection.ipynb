{
  "nbformat": 4,
  "nbformat_minor": 0,
  "metadata": {
    "colab": {
      "provenance": []
    },
    "kernelspec": {
      "name": "python3",
      "display_name": "Python 3"
    },
    "language_info": {
      "name": "python"
    }
  },
  "cells": [
    {
      "cell_type": "code",
      "execution_count": null,
      "metadata": {
        "colab": {
          "base_uri": "https://localhost:8080/"
        },
        "id": "Xc6Fx9gblCWr",
        "outputId": "6371874a-1636-475b-ffcd-0590590ff2d9"
      },
      "outputs": [
        {
          "output_type": "stream",
          "name": "stdout",
          "text": [
            "Mounted at /content/drive\n",
            "\u001b[2K   \u001b[90m━━━━━━━━━━━━━━━━━━━━━━━━━━━━━━━━━━━━━━━━\u001b[0m \u001b[32m363.4/363.4 MB\u001b[0m \u001b[31m4.5 MB/s\u001b[0m eta \u001b[36m0:00:00\u001b[0m\n",
            "\u001b[2K   \u001b[90m━━━━━━━━━━━━━━━━━━━━━━━━━━━━━━━━━━━━━━━━\u001b[0m \u001b[32m13.8/13.8 MB\u001b[0m \u001b[31m52.8 MB/s\u001b[0m eta \u001b[36m0:00:00\u001b[0m\n",
            "\u001b[2K   \u001b[90m━━━━━━━━━━━━━━━━━━━━━━━━━━━━━━━━━━━━━━━━\u001b[0m \u001b[32m24.6/24.6 MB\u001b[0m \u001b[31m30.4 MB/s\u001b[0m eta \u001b[36m0:00:00\u001b[0m\n",
            "\u001b[2K   \u001b[90m━━━━━━━━━━━━━━━━━━━━━━━━━━━━━━━━━━━━━━━━\u001b[0m \u001b[32m883.7/883.7 kB\u001b[0m \u001b[31m32.3 MB/s\u001b[0m eta \u001b[36m0:00:00\u001b[0m\n",
            "\u001b[2K   \u001b[90m━━━━━━━━━━━━━━━━━━━━━━━━━━━━━━━━━━━━━━━━\u001b[0m \u001b[32m664.8/664.8 MB\u001b[0m \u001b[31m1.8 MB/s\u001b[0m eta \u001b[36m0:00:00\u001b[0m\n",
            "\u001b[2K   \u001b[90m━━━━━━━━━━━━━━━━━━━━━━━━━━━━━━━━━━━━━━━━\u001b[0m \u001b[32m211.5/211.5 MB\u001b[0m \u001b[31m6.1 MB/s\u001b[0m eta \u001b[36m0:00:00\u001b[0m\n",
            "\u001b[2K   \u001b[90m━━━━━━━━━━━━━━━━━━━━━━━━━━━━━━━━━━━━━━━━\u001b[0m \u001b[32m56.3/56.3 MB\u001b[0m \u001b[31m12.2 MB/s\u001b[0m eta \u001b[36m0:00:00\u001b[0m\n",
            "\u001b[2K   \u001b[90m━━━━━━━━━━━━━━━━━━━━━━━━━━━━━━━━━━━━━━━━\u001b[0m \u001b[32m127.9/127.9 MB\u001b[0m \u001b[31m8.3 MB/s\u001b[0m eta \u001b[36m0:00:00\u001b[0m\n",
            "\u001b[2K   \u001b[90m━━━━━━━━━━━━━━━━━━━━━━━━━━━━━━━━━━━━━━━━\u001b[0m \u001b[32m207.5/207.5 MB\u001b[0m \u001b[31m5.7 MB/s\u001b[0m eta \u001b[36m0:00:00\u001b[0m\n",
            "\u001b[2K   \u001b[90m━━━━━━━━━━━━━━━━━━━━━━━━━━━━━━━━━━━━━━━━\u001b[0m \u001b[32m21.1/21.1 MB\u001b[0m \u001b[31m43.8 MB/s\u001b[0m eta \u001b[36m0:00:00\u001b[0m\n",
            "\u001b[?25h"
          ]
        }
      ],
      "source": [
        "# --- Mount Google Drive ---\n",
        "from google.colab import drive\n",
        "drive.mount('/content/drive')\n",
        "\n",
        "# --- Installing Necessary Libraries  ---\n",
        "!pip install torch torchvision torchaudio --quiet\n",
        "\n",
        "# --- Import Libraries ---\n",
        "import torch\n",
        "import torch.nn as nn\n",
        "import torch.optim as optim\n",
        "import torchvision\n",
        "import torchvision.transforms as transforms\n",
        "from torch.utils.data import Dataset, DataLoader\n",
        "import pandas as pd\n",
        "import numpy as np\n",
        "from sklearn.model_selection import train_test_split\n",
        "from sklearn.preprocessing import StandardScaler\n",
        "import matplotlib.pyplot as plt"
      ]
    },
    {
      "cell_type": "code",
      "source": [
        "# --- Eye Image Transformations ---\n",
        "transform = transforms.Compose([\n",
        "    transforms.Resize((224,224)),\n",
        "    transforms.ToTensor(),\n",
        "    transforms.Normalize([0.485, 0.456, 0.406], [0.229, 0.224, 0.225])\n",
        "])\n",
        "\n",
        "# --- Load Eye Dataset ---\n",
        "eye_path = '/content/drive/My Drive/eye'\n",
        "\n",
        "eye_dataset = torchvision.datasets.ImageFolder(eye_path, transform=transform)\n",
        "eye_loader = DataLoader(eye_dataset, batch_size=32, shuffle=False)\n",
        "\n",
        "# --- Check Class Mapping ---\n",
        "print(\"Class Mapping:\", eye_dataset.class_to_idx)\n"
      ],
      "metadata": {
        "colab": {
          "base_uri": "https://localhost:8080/"
        },
        "id": "u8fpzKielPNv",
        "outputId": "5ac335f8-68a4-4263-d239-d51602a69d69"
      },
      "execution_count": null,
      "outputs": [
        {
          "output_type": "stream",
          "name": "stdout",
          "text": [
            "Class Mapping: {'drowsy': 0, 'ndrowsy': 1}\n"
          ]
        }
      ]
    },
    {
      "cell_type": "code",
      "source": [
        "# --- Load Pretrained Vision Transformer (ViT) ---\n",
        "vit_model = torchvision.models.vit_b_16(weights='ViT_B_16_Weights.DEFAULT')\n",
        "vit_model.heads = nn.Identity()  # Remove classification layer\n",
        "vit_model.eval()\n",
        "\n",
        "# --- Extract Eye Features Function ---\n",
        "def extract_eye_features(loader):\n",
        "    all_features = []\n",
        "    all_labels = []\n",
        "    device = 'cuda' if torch.cuda.is_available() else 'cpu'\n",
        "    vit = vit_model.to(device)\n",
        "    with torch.no_grad():\n",
        "        for images, labels in loader:\n",
        "            images = images.to(device)\n",
        "            feats = vit(images)\n",
        "            all_features.append(feats.cpu())\n",
        "            all_labels.append(labels.cpu())\n",
        "    features = torch.cat(all_features)\n",
        "    labels = torch.cat(all_labels)\n",
        "    return features.numpy(), labels.numpy()\n",
        "\n",
        "# --- Run Feature Extraction ---\n",
        "eye_features, eye_labels = extract_eye_features(eye_loader)\n",
        "\n",
        "print(\"Eye Feature Shape:\", eye_features.shape)\n",
        "print(\"Eye Labels Shape:\", eye_labels.shape)\n"
      ],
      "metadata": {
        "colab": {
          "base_uri": "https://localhost:8080/"
        },
        "id": "ffa36kfrl1Bc",
        "outputId": "17b71fae-35c0-4413-bd8b-0385b7dc4313"
      },
      "execution_count": null,
      "outputs": [
        {
          "output_type": "stream",
          "name": "stderr",
          "text": [
            "Downloading: \"https://download.pytorch.org/models/vit_b_16-c867db91.pth\" to /root/.cache/torch/hub/checkpoints/vit_b_16-c867db91.pth\n",
            "100%|██████████| 330M/330M [00:02<00:00, 161MB/s]\n"
          ]
        },
        {
          "output_type": "stream",
          "name": "stdout",
          "text": [
            "Eye Feature Shape: (2005, 768)\n",
            "Eye Labels Shape: (2005,)\n"
          ]
        }
      ]
    },
    {
      "cell_type": "code",
      "source": [
        "# --- Load EEG CSV ---\n",
        "eeg_path = '/content/drive/My Drive/features_raw_eeg/features_raw.csv'\n",
        "eeg_df = pd.read_csv(eeg_path)\n",
        "\n",
        "# --- Handle NaN or constant columns ---\n",
        "eeg_df = eeg_df.fillna(0)\n",
        "\n",
        "# --- Standardize EEG Features ---\n",
        "scaler_eeg = StandardScaler()\n",
        "eeg_scaled = scaler_eeg.fit_transform(eeg_df)\n",
        "\n",
        "# --- Match Rows with Eye Features ---\n",
        "eeg_scaled = eeg_scaled[:2005]\n",
        "\n",
        "print(\"EEG Feature Shape:\", eeg_scaled.shape)\n"
      ],
      "metadata": {
        "colab": {
          "base_uri": "https://localhost:8080/"
        },
        "id": "ZdJCGjfpuKR9",
        "outputId": "0f0cf234-fd43-48ad-86df-a2804151204e"
      },
      "execution_count": null,
      "outputs": [
        {
          "output_type": "stream",
          "name": "stdout",
          "text": [
            "EEG Feature Shape: (2005, 33)\n"
          ]
        }
      ]
    },
    {
      "cell_type": "code",
      "source": [
        "# Load HRV\n",
        "hrv_path = '/content/drive/My Drive/hrv/train.csv'\n",
        "hrv_df = pd.read_csv(hrv_path)\n",
        "\n",
        "# List of 32 good HRV feature columns (manually)\n",
        "hrv_feature_cols = [\n",
        "    'MEAN_RR', 'MEDIAN_RR', 'SDRR', 'RMSSD', 'SDSD', 'SDRR_RMSSD', 'HR',\n",
        "    'pNN25', 'pNN50', 'SD1', 'SD2', 'KURT', 'SKEW', 'MEAN_REL_RR', 'MEDIAN_REL_RR',\n",
        "    'SDRR_REL_RR', 'RMSSD_REL_RR', 'SDSD_REL_RR', 'SDRR_RMSSD_REL_RR', 'KURT_REL_RR',\n",
        "    'SKEW_REL_RR', 'VLF', 'VLF_PCT', 'LF', 'LF_PCT', 'LF_NU', 'HF', 'HF_PCT', 'HF_NU',\n",
        "    'TP', 'LF_HF', 'HF_LF'\n",
        "]\n",
        "\n",
        "# Only select these columns\n",
        "hrv_df = hrv_df[hrv_feature_cols]\n",
        "\n",
        "# Fill NaN if any\n",
        "hrv_df = hrv_df.fillna(0)\n",
        "\n",
        "# Standardize\n",
        "from sklearn.preprocessing import StandardScaler\n",
        "scaler_hrv = StandardScaler()\n",
        "hrv_scaled = scaler_hrv.fit_transform(hrv_df)\n",
        "\n",
        "# Match rows\n",
        "hrv_scaled = hrv_scaled[:2005]\n",
        "\n",
        "print(\"HRV Feature Shape:\", hrv_scaled.shape)\n"
      ],
      "metadata": {
        "colab": {
          "base_uri": "https://localhost:8080/"
        },
        "id": "WRur-vImuOJC",
        "outputId": "72a5dd3e-69e5-46e5-ef01-f15704037767"
      },
      "execution_count": null,
      "outputs": [
        {
          "output_type": "stream",
          "name": "stdout",
          "text": [
            "HRV Feature Shape: (2005, 32)\n"
          ]
        }
      ]
    },
    {
      "cell_type": "code",
      "source": [
        "import numpy as np\n",
        "import pandas as pd\n",
        "\n",
        "# Step 1: Combine all features horizontally\n",
        "full_features = np.hstack([eye_features, eeg_scaled, hrv_scaled])  # shape: (2005, 833)\n",
        "\n",
        "# Step 2: Add labels as the last column\n",
        "full_data = np.hstack([full_features, eye_labels.reshape(-1, 1)])  # shape: (2005, 834)\n",
        "\n",
        "# Step 3: Create column names\n",
        "eye_cols = [f\"eye_{i}\" for i in range(768)]\n",
        "eeg_cols = [f\"eeg_{i}\" for i in range(33)]\n",
        "hrv_cols = [f\"hrv_{i}\" for i in range(32)]\n",
        "columns = eye_cols + eeg_cols + hrv_cols + [\"label\"]\n",
        "\n",
        "# Step 4: Convert to DataFrame\n",
        "df_merged = pd.DataFrame(full_data, columns=columns)\n",
        "\n",
        "# Step 5: Save to CSV\n",
        "df_merged.to_csv(\"/content/merged_multimodal_dataset.csv\", index=False)\n",
        "print(\" Merged file saved as 'merged_multimodal_dataset.csv'\")\n"
      ],
      "metadata": {
        "colab": {
          "base_uri": "https://localhost:8080/"
        },
        "id": "48o390CmuRys",
        "outputId": "50648dbc-2b6e-46ed-ea0a-bc447c1aead8"
      },
      "execution_count": null,
      "outputs": [
        {
          "output_type": "stream",
          "name": "stdout",
          "text": [
            " Merged file saved as 'merged_multimodal_dataset.csv'\n"
          ]
        }
      ]
    },
    {
      "cell_type": "code",
      "source": [
        "# --- Custom Dataset ---\n",
        "class MultiModalDataset(Dataset):\n",
        "    def __init__(self, eye_feats, eeg_feats, hrv_feats, labels):\n",
        "        self.eye_feats = eye_feats\n",
        "        self.eeg_feats = eeg_feats\n",
        "        self.hrv_feats = hrv_feats\n",
        "        self.labels = labels\n",
        "\n",
        "    def __len__(self):\n",
        "        return len(self.labels)\n",
        "\n",
        "    def __getitem__(self, idx):\n",
        "        return {\n",
        "            'eye': torch.tensor(self.eye_feats[idx], dtype=torch.float),\n",
        "            'eeg': torch.tensor(self.eeg_feats[idx], dtype=torch.float),\n",
        "            'hrv': torch.tensor(self.hrv_feats[idx], dtype=torch.float),\n",
        "            'label': torch.tensor(self.labels[idx], dtype=torch.long)\n",
        "        }"
      ],
      "metadata": {
        "id": "IAy1SmKZuW5T"
      },
      "execution_count": null,
      "outputs": []
    },
    {
      "cell_type": "code",
      "source": [
        "# --- Train/Test Split ---\n",
        "from sklearn.model_selection import train_test_split\n",
        "\n",
        "X_eye_train, X_eye_test, X_eeg_train, X_eeg_test, X_hrv_train, X_hrv_test, y_train, y_test = train_test_split(\n",
        "    eye_features, eeg_scaled, hrv_scaled, eye_labels, test_size=0.2, random_state=42\n",
        ")\n",
        "\n",
        "# --- Create Train and Test Dataset ---\n",
        "train_dataset = MultiModalDataset(X_eye_train, X_eeg_train, X_hrv_train, y_train)\n",
        "test_dataset = MultiModalDataset(X_eye_test, X_eeg_test, X_hrv_test, y_test)\n",
        "\n",
        "train_loader = DataLoader(train_dataset, batch_size=32, shuffle=True)\n",
        "test_loader = DataLoader(test_dataset, batch_size=32, shuffle=False)"
      ],
      "metadata": {
        "id": "atPqvVESuaWV"
      },
      "execution_count": null,
      "outputs": []
    },
    {
      "cell_type": "code",
      "source": [
        "# --- Late Fusion Model with Meta-Classifier ---\n",
        "class LateFusionModel(nn.Module):\n",
        "    def __init__(self, eye_dim, eeg_dim, hrv_dim, hidden_size=128):\n",
        "        super(LateFusionModel, self).__init__()\n",
        "\n",
        "        self.eye_branch = nn.Sequential(\n",
        "            nn.Linear(eye_dim, hidden_size),\n",
        "            nn.ReLU(),\n",
        "            nn.Linear(hidden_size, hidden_size),\n",
        "            nn.ReLU()\n",
        "        )\n",
        "\n",
        "        self.eeg_branch = nn.Sequential(\n",
        "            nn.Linear(eeg_dim, hidden_size),\n",
        "            nn.ReLU(),\n",
        "            nn.Linear(hidden_size, hidden_size),\n",
        "            nn.ReLU()\n",
        "        )\n",
        "\n",
        "        self.hrv_branch = nn.Sequential(\n",
        "            nn.Linear(hrv_dim, hidden_size),\n",
        "            nn.ReLU(),\n",
        "            nn.Linear(hidden_size, hidden_size),\n",
        "            nn.ReLU()\n",
        "        )\n",
        "\n",
        "        self.fusion_head = nn.Sequential(\n",
        "            nn.Linear(hidden_size * 3, 128),\n",
        "            nn.ReLU(),\n",
        "            nn.Linear(128, 2)\n",
        "        )\n",
        "\n",
        "    def forward(self, eye, eeg, hrv):\n",
        "        eye_feat = self.eye_branch(eye)\n",
        "        eeg_feat = self.eeg_branch(eeg)\n",
        "        hrv_feat = self.hrv_branch(hrv)\n",
        "        combined = torch.cat([eye_feat, eeg_feat, hrv_feat], dim=1)\n",
        "        output = self.fusion_head(combined)\n",
        "        return output\n"
      ],
      "metadata": {
        "id": "SjQDsiFnueuG"
      },
      "execution_count": null,
      "outputs": []
    },
    {
      "cell_type": "code",
      "source": [
        "# --- Instantiate Model ---\n",
        "device = 'cuda' if torch.cuda.is_available() else 'cpu'\n",
        "model = LateFusionModel(eye_dim=eye_features.shape[1], eeg_dim=eeg_scaled.shape[1], hrv_dim=hrv_scaled.shape[1])\n",
        "model = model.to(device)\n",
        "\n",
        "model = model.to(device)\n",
        "\n",
        "# --- Loss and Optimizer ---\n",
        "criterion = nn.CrossEntropyLoss()\n",
        "optimizer = optim.Adam(model.parameters(), lr=1e-3)\n",
        "\n",
        "# --- Training Loop ---\n",
        "epochs = 10\n",
        "\n",
        "for epoch in range(epochs):\n",
        "    model.train()\n",
        "    running_loss = 0.0\n",
        "    for batch in train_loader:\n",
        "        eye = batch['eye'].to(device)\n",
        "        eeg = batch['eeg'].to(device)\n",
        "        hrv = batch['hrv'].to(device)\n",
        "        labels = batch['label'].to(device)\n",
        "\n",
        "        optimizer.zero_grad()\n",
        "        outputs = model(eye, eeg, hrv)\n",
        "        loss = criterion(outputs, labels)\n",
        "        loss.backward()\n",
        "        optimizer.step()\n",
        "\n",
        "        running_loss += loss.item()\n",
        "\n",
        "    print(f\"Epoch [{epoch+1}/{epochs}], Loss: {running_loss/len(train_loader):.4f}\")\n",
        "print(\"Training Complete!\")"
      ],
      "metadata": {
        "colab": {
          "base_uri": "https://localhost:8080/"
        },
        "id": "JVwR3vtGu0Rz",
        "outputId": "ec67ed5b-6f41-4d8e-aca4-b3723a7f1b1b"
      },
      "execution_count": null,
      "outputs": [
        {
          "output_type": "stream",
          "name": "stdout",
          "text": [
            "Epoch [1/10], Loss: 0.4259\n",
            "Epoch [2/10], Loss: 0.2501\n",
            "Epoch [3/10], Loss: 0.1621\n",
            "Epoch [4/10], Loss: 0.1315\n",
            "Epoch [5/10], Loss: 0.0958\n",
            "Epoch [6/10], Loss: 0.0921\n",
            "Epoch [7/10], Loss: 0.0945\n",
            "Epoch [8/10], Loss: 0.0478\n",
            "Epoch [9/10], Loss: 0.0372\n",
            "Epoch [10/10], Loss: 0.0460\n",
            "Training Complete!\n"
          ]
        }
      ]
    },
    {
      "cell_type": "code",
      "source": [
        "# --- Precision, Recall, F1 Score ---\n",
        "from sklearn.metrics import precision_score, recall_score, f1_score\n",
        "\n",
        "all_preds = []\n",
        "all_labels = []\n",
        "\n",
        "with torch.no_grad():\n",
        "    for batch in test_loader:\n",
        "        eye = batch['eye'].to(device)\n",
        "        eeg = batch['eeg'].to(device)\n",
        "        hrv = batch['hrv'].to(device)\n",
        "        labels = batch['label'].to(device)\n",
        "\n",
        "        outputs = model(eye, eeg, hrv)\n",
        "        _, predicted = torch.max(outputs.data, 1)\n",
        "\n",
        "        all_preds.extend(predicted.cpu().numpy())\n",
        "        all_labels.extend(labels.cpu().numpy())\n",
        "\n",
        "precision = precision_score(all_labels, all_preds)\n",
        "recall = recall_score(all_labels, all_preds)\n",
        "f1 = f1_score(all_labels, all_preds)\n",
        "\n",
        "print(f\"Precision: {precision:.4f}\")\n",
        "print(f\"Recall: {recall:.4f}\")\n",
        "print(f\"F1 Score: {f1:.4f}\")"
      ],
      "metadata": {
        "colab": {
          "base_uri": "https://localhost:8080/"
        },
        "id": "eJ6Bc0Zqu7WB",
        "outputId": "cbf687ad-991a-4bc2-ad95-6923b32e2071"
      },
      "execution_count": null,
      "outputs": [
        {
          "output_type": "stream",
          "name": "stdout",
          "text": [
            "Precision: 0.9948\n",
            "Recall: 0.9648\n",
            "F1 Score: 0.9796\n"
          ]
        }
      ]
    },
    {
      "cell_type": "code",
      "source": [
        "# --- Confusion Matrix ---\n",
        "from sklearn.metrics import confusion_matrix, ConfusionMatrixDisplay\n",
        "\n",
        "cm = confusion_matrix(all_labels, all_preds)\n",
        "disp = ConfusionMatrixDisplay(confusion_matrix=cm, display_labels=[\"Not Fatigue\", \"Fatigue\"])\n",
        "disp.plot(cmap=\"Blues\")\n",
        "plt.title(\"Confusion Matrix\")\n",
        "plt.show()"
      ],
      "metadata": {
        "colab": {
          "base_uri": "https://localhost:8080/",
          "height": 472
        },
        "id": "Ed2wv5s0v44M",
        "outputId": "64d47605-ac53-4a1e-f63a-ce832ba7e2e8"
      },
      "execution_count": null,
      "outputs": [
        {
          "output_type": "display_data",
          "data": {
            "text/plain": [
              "<Figure size 640x480 with 2 Axes>"
            ],
            "image/png": "[encoded data removed]"
          },
          "metadata": {}
        }
      ]
    },
    {
      "cell_type": "code",
      "source": [
        "# --- Test the Model ---\n",
        "model.eval()\n",
        "correct = 0\n",
        "total = 0\n",
        "\n",
        "with torch.no_grad():\n",
        "    for batch in test_loader:\n",
        "        eye = batch['eye'].to(device)\n",
        "        eeg = batch['eeg'].to(device)\n",
        "        hrv = batch['hrv'].to(device)\n",
        "        labels = batch['label'].to(device)\n",
        "\n",
        "        outputs = model(eye, eeg, hrv)\n",
        "        _, predicted = torch.max(outputs.data, 1)\n",
        "        total += labels.size(0)\n",
        "        correct += (predicted == labels).sum().item()\n",
        "\n",
        "print(f\"Test Accuracy: {100 * correct/total:.2f}%\")\n"
      ],
      "metadata": {
        "colab": {
          "base_uri": "https://localhost:8080/"
        },
        "id": "qsFiwl5DwQYj",
        "outputId": "c458d0e4-3a19-423c-de31-a0b7a1d33ea2"
      },
      "execution_count": null,
      "outputs": [
        {
          "output_type": "stream",
          "name": "stdout",
          "text": [
            "Test Accuracy: 98.00%\n"
          ]
        }
      ]
    },
    {
      "cell_type": "code",
      "source": [
        "import random\n",
        "\n",
        "# --- Pick a random sample from test set\n",
        "random_idx = random.randint(0, len(test_dataset) - 1)\n",
        "sample = test_dataset[random_idx]\n",
        "\n",
        "eye = sample['eye'].unsqueeze(0).to(device)  # add batch dimension\n",
        "eeg = sample['eeg'].unsqueeze(0).to(device)\n",
        "hrv = sample['hrv'].unsqueeze(0).to(device)\n",
        "label_true = sample['label'].item()\n",
        "\n",
        "# --- Make prediction\n",
        "model.eval()\n",
        "with torch.no_grad():\n",
        "    output = model(eye, eeg, hrv)\n",
        "    _, predicted = torch.max(output.data, 1)\n",
        "    predicted = predicted.item()\n",
        "\n",
        "# --- Map labels\n",
        "label_map = {0: \"Fatigue \", 1: \"Not Fatigue \"}\n",
        "\n",
        "# --- Print result\n",
        "print(f\"True Label: {label_map[label_true]}\")\n",
        "print(f\"Predicted Label: {label_map[predicted]}\")\n"
      ],
      "metadata": {
        "colab": {
          "base_uri": "https://localhost:8080/"
        },
        "id": "M0nq6QLzwWxz",
        "outputId": "8a1ba34b-ec1c-468f-a95c-fcb2bd13f5f1"
      },
      "execution_count": null,
      "outputs": [
        {
          "output_type": "stream",
          "name": "stdout",
          "text": [
            "True Label: Fatigue \n",
            "Predicted Label: Fatigue \n"
          ]
        }
      ]
    }
  ]
}